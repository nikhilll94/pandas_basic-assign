{
 "cells": [
  {
   "cell_type": "markdown",
   "id": "c3e366cc-bf4f-4423-8f28-9e9efa02aa43",
   "metadata": {},
   "source": [
    "Ans 1)"
   ]
  },
  {
   "cell_type": "code",
   "execution_count": 1,
   "id": "92c3bd68-eca6-4d51-8d38-c04f636f43cc",
   "metadata": {},
   "outputs": [
    {
     "name": "stdout",
     "output_type": "stream",
     "text": [
      "0     4\n",
      "1     8\n",
      "2    15\n",
      "3    16\n",
      "4    23\n",
      "5    42\n",
      "dtype: int64\n"
     ]
    }
   ],
   "source": [
    "import pandas as pd\n",
    "\n",
    "data = [4, 8, 15, 16, 23, 42]\n",
    "series = pd.Series(data)\n",
    "print(series)\n",
    "\n",
    "\n"
   ]
  },
  {
   "cell_type": "markdown",
   "id": "f70543ec-e958-4424-b63c-a14f277c3789",
   "metadata": {},
   "source": [
    "Ans 2)"
   ]
  },
  {
   "cell_type": "code",
   "execution_count": 2,
   "id": "a70707ce-dac5-45e0-a056-4a9eea93b533",
   "metadata": {},
   "outputs": [
    {
     "name": "stdout",
     "output_type": "stream",
     "text": [
      "0     1\n",
      "1     2\n",
      "2     3\n",
      "3     4\n",
      "4     5\n",
      "5     6\n",
      "6     7\n",
      "7     8\n",
      "8     9\n",
      "9    10\n",
      "dtype: int64\n"
     ]
    }
   ],
   "source": [
    "import pandas as pd\n",
    "\n",
    "my_list = [1, 2, 3, 4, 5, 6, 7, 8, 9, 10]\n",
    "series = pd.Series(my_list)\n",
    "print(series)\n"
   ]
  },
  {
   "cell_type": "markdown",
   "id": "fe6900ad-6bf0-41f4-84e5-be84b5e46ef3",
   "metadata": {},
   "source": [
    "Ans 3)"
   ]
  },
  {
   "cell_type": "code",
   "execution_count": 4,
   "id": "be3f2257-248a-432a-8fa5-a985e1e1b934",
   "metadata": {},
   "outputs": [
    {
     "name": "stdout",
     "output_type": "stream",
     "text": [
      "     Name  Age  Gender\n",
      "0   Alice   25  Female\n",
      "1     Bob   30    Male\n",
      "2  Claire   27  Female\n"
     ]
    }
   ],
   "source": [
    "import pandas as pd\n",
    "\n",
    "data = {\n",
    "    'Name': ['Alice', 'Bob', 'Claire'],\n",
    "    'Age': [25, 30, 27],\n",
    "    'Gender': ['Female', 'Male', 'Female']\n",
    "}\n",
    "\n",
    "df = pd.DataFrame(data)\n",
    "print(df)\n"
   ]
  },
  {
   "cell_type": "markdown",
   "id": "8adf259d-7b3a-49ed-b7cd-1ff50af064fa",
   "metadata": {},
   "source": [
    "Ans 4)"
   ]
  },
  {
   "cell_type": "code",
   "execution_count": 5,
   "id": "7be842ce-5c35-46a7-8acc-a88f9ca09af4",
   "metadata": {},
   "outputs": [
    {
     "name": "stdout",
     "output_type": "stream",
     "text": [
      "DataFrame:\n",
      "     Name  Age  Gender\n",
      "0   Alice   25  Female\n",
      "1     Bob   30    Male\n",
      "2  Claire   27  Female\n",
      "\n",
      "Series - Name:\n",
      "0     Alice\n",
      "1       Bob\n",
      "2    Claire\n",
      "Name: Name, dtype: object\n"
     ]
    }
   ],
   "source": [
    "#  DataFrame in pandas is a two-dimensional tabular data structure with rows and columns, while a Series is a one-dimensional labeled array representing a single column or row of data from a DataFrame.\n",
    "\n",
    "#example\n",
    "import pandas as pd\n",
    "\n",
    "# Creating a DataFrame\n",
    "data = {\n",
    "    'Name': ['Alice', 'Bob', 'Claire'],\n",
    "    'Age': [25, 30, 27],\n",
    "    'Gender': ['Female', 'Male', 'Female']\n",
    "}\n",
    "\n",
    "df = pd.DataFrame(data)\n",
    "print(\"DataFrame:\")\n",
    "print(df)\n",
    "print()\n",
    "\n",
    "# Accessing a column as a Series\n",
    "name_series = df['Name']\n",
    "print(\"Series - Name:\")\n",
    "print(name_series)\n"
   ]
  },
  {
   "cell_type": "markdown",
   "id": "c4cce684-44aa-41f4-b163-3eccfe97faad",
   "metadata": {},
   "source": [
    "Ans 5)"
   ]
  },
  {
   "cell_type": "code",
   "execution_count": 6,
   "id": "f833be5e-4745-419d-a9f8-2e2b279857d5",
   "metadata": {},
   "outputs": [
    {
     "name": "stdout",
     "output_type": "stream",
     "text": [
      "     Name  Age  Gender\n",
      "0   Alice   25  Female\n",
      "1     Bob   30    Male\n",
      "2  Claire   27  Female\n"
     ]
    }
   ],
   "source": [
    "# Some common functions include:\n",
    "\n",
    "#1)head() and tail():\n",
    "#2)info()\n",
    "#3)drop()\n",
    "#4)groupby()\n",
    "\n",
    "\n",
    "#example of haed()\n",
    "\n",
    "import pandas as pd\n",
    "\n",
    "data = {\n",
    "    'Name': ['Alice', 'Bob', 'Claire', 'David', 'Emily'],\n",
    "    'Age': [25, 30, 27, 35, 29],\n",
    "    'Gender': ['Female', 'Male', 'Female', 'Male', 'Female']\n",
    "}\n",
    "\n",
    "df = pd.DataFrame(data)\n",
    "\n",
    "# View the first 3 rows using head()\n",
    "print(df.head(3))\n",
    "\n",
    "\n"
   ]
  },
  {
   "cell_type": "markdown",
   "id": "8ece1b2c-fd82-44f9-b3fc-a139c7fcaef9",
   "metadata": {},
   "source": [
    "Ans 6)"
   ]
  },
  {
   "cell_type": "code",
   "execution_count": 7,
   "id": "935258b3-107c-4799-b753-3ce5a4b5daf5",
   "metadata": {},
   "outputs": [],
   "source": [
    "# Series and DataFrame are mutable in nature, while Panel is not applicable in recent versions of Pandas."
   ]
  },
  {
   "cell_type": "markdown",
   "id": "e8788c50-ba49-458f-a849-17264a4e9b3a",
   "metadata": {},
   "source": [
    "Ans 7)"
   ]
  },
  {
   "cell_type": "code",
   "execution_count": null,
   "id": "92183541-276b-4251-b0e0-55c1c1c4d900",
   "metadata": {},
   "outputs": [],
   "source": []
  }
 ],
 "metadata": {
  "kernelspec": {
   "display_name": "Python 3 (ipykernel)",
   "language": "python",
   "name": "python3"
  },
  "language_info": {
   "codemirror_mode": {
    "name": "ipython",
    "version": 3
   },
   "file_extension": ".py",
   "mimetype": "text/x-python",
   "name": "python",
   "nbconvert_exporter": "python",
   "pygments_lexer": "ipython3",
   "version": "3.10.8"
  }
 },
 "nbformat": 4,
 "nbformat_minor": 5
}
